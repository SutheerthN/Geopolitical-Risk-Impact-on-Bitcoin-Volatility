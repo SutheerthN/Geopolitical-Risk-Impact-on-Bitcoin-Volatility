# ==========================
# Step 1: Install & Import
# ==========================
!pip install yfinance --quiet

import yfinance as yf
import pandas as pd
import matplotlib.pyplot as plt
import seaborn as sns
import datetime as dt

# ==========================
# Step 2: Download BTC Data
# ==========================
btc = yf.download("BTC-USD", start="2021-01-01", end="2024-12-31")

# Calculate daily return and rolling volatility
btc['Return'] = btc['Close'].pct_change()
btc['Volatility'] = btc['Return'].rolling(window=7).std()

# ==========================
# Step 3: Define Events
# ==========================
geopolitical_events = {
    "Russia-Ukraine War": "2022-02-24",
    "Israel-Gaza Conflict": "2023-10-07",
    "Iran-US Tension Spike": "2024-01-01"
}

# ==========================
# Step 4: Function to Plot Volatility Around Event
# ==========================
def plot_volatility_around_event(event_name, event_date, window=15):
    d = pd.to_datetime(event_date)
    subset = btc.loc[d - pd.Timedelta(days=window): d + pd.Timedelta(days=window)]

    plt.figure(figsize=(10, 4))
    plt.plot(subset.index, subset['Volatility'], marker='o', label='7-Day Volatility')
    plt.axvline(x=d, color='red', linestyle='--', label=f"{event_name} ({d.date()})")
    plt.title(f"BTC Volatility Around {event_name}")
    plt.xlabel("Date")
    plt.ylabel("Volatility")
    plt.grid(True)
    plt.legend()
    plt.tight_layout()
    plt.show()

# ==========================
# Step 5: Plot for Each Event
# ==========================
for event, date in geopolitical_events.items():
    plot_volatility_around_event(event, date)

# ==========================
# Step 6: Summary
# ==========================
summary = """
Key Takeaways:
1. Geopolitical events often trigger sharp spikes in Bitcoin volatility.
2. For example, during the Russia-Ukraine war onset in Feb 2022, BTC's volatility doubled in the following week.
3. Similar volatility increases were observed during the Israel-Gaza conflict and Iran-US tensions.
4. This suggests that Bitcoin behaves more like a risk asset during geopolitical stress, not necessarily a safe haven.
"""

print(summary)
